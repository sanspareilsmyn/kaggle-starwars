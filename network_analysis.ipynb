{
 "cells": [
  {
   "cell_type": "code",
   "execution_count": 1,
   "metadata": {},
   "outputs": [],
   "source": [
    "import json\n",
    "import numpy as np"
   ]
  },
  {
   "cell_type": "code",
   "execution_count": 5,
   "metadata": {},
   "outputs": [],
   "source": [
    "feat = np.loadtxt('node2vec/output/aggregated_feat.txt')"
   ]
  },
  {
   "cell_type": "code",
   "execution_count": 13,
   "metadata": {},
   "outputs": [],
   "source": [
    "feat_id = feat[:,0].astype(int)"
   ]
  },
  {
   "cell_type": "code",
   "execution_count": 20,
   "metadata": {},
   "outputs": [],
   "source": [
    "json_file = open('id_map.json','r')    \n",
    "for line in json_file:\n",
    "    id_map = json.loads(line)\n",
    "    \n",
    "json_file = open('inv_id_map.json','r')\n",
    "for line in json_file:\n",
    "    inv_id_map = json.loads(line)"
   ]
  },
  {
   "cell_type": "code",
   "execution_count": 42,
   "metadata": {},
   "outputs": [],
   "source": [
    "def feat_distance(character_1, character_2):\n",
    "    idx_1 = np.nonzero(feat_id==id_map[character_1])[0][0]\n",
    "    idx_2 = np.nonzero(feat_id==id_map[character_2])[0][0]\n",
    "    \n",
    "    feature_1 = np.copy(feat[idx_1, 1:])\n",
    "    feature_2 = np.copy(feat[idx_2, 1:])\n",
    "    \n",
    "    return np.linalg.norm(feature_1 - feature_2)"
   ]
  },
  {
   "cell_type": "code",
   "execution_count": 73,
   "metadata": {},
   "outputs": [],
   "source": [
    "def k_nn_characters(character, k):\n",
    "    idx = np.nonzero(feat_id==id_map[character])[0][0]\n",
    "    feat_vec = np.copy(feat[idx, 1:])\n",
    "\n",
    "    dist = np.power(feat[:, 1:] - feat_vec, 2)\n",
    "    dist = np.sum(dist, axis = 1)\n",
    "    \n",
    "    sort_list = np.argsort(dist)\n",
    "    friend_list = sort_list[1:k+1]\n",
    "    for i in friend_list:\n",
    "        print(inv_id_map[str(i)])"
   ]
  },
  {
   "cell_type": "code",
   "execution_count": 77,
   "metadata": {
    "scrolled": true
   },
   "outputs": [
    {
     "name": "stdout",
     "output_type": "stream",
     "text": [
      "5 most closest friends of OBI-WAN!\n",
      "LAMA SU\n",
      "SNOKE\n",
      "SIO BIBBLE\n",
      "JIRA\n",
      "UNKAR PLUTT\n"
     ]
    }
   ],
   "source": [
    "print('5 most closest friends of OBI-WAN!')\n",
    "k_nn_characters('OBI-WAN', 5)"
   ]
  },
  {
   "cell_type": "code",
   "execution_count": 78,
   "metadata": {},
   "outputs": [
    {
     "name": "stdout",
     "output_type": "stream",
     "text": [
      "5 most closest friends of DARTH VADER\n",
      "SOLA\n",
      "CAMIE\n",
      "CAPTAIN TYPHO\n",
      "ANAKIN\n",
      "CLIEGG\n"
     ]
    }
   ],
   "source": [
    "print('5 most closest friends of DARTH VADER')\n",
    "k_nn_characters('DARTH VADER', 5)"
   ]
  },
  {
   "cell_type": "code",
   "execution_count": null,
   "metadata": {},
   "outputs": [],
   "source": []
  }
 ],
 "metadata": {
  "kernelspec": {
   "display_name": "Python 3",
   "language": "python",
   "name": "python3"
  },
  "language_info": {
   "codemirror_mode": {
    "name": "ipython",
    "version": 3
   },
   "file_extension": ".py",
   "mimetype": "text/x-python",
   "name": "python",
   "nbconvert_exporter": "python",
   "pygments_lexer": "ipython3",
   "version": "3.8.5"
  }
 },
 "nbformat": 4,
 "nbformat_minor": 4
}
